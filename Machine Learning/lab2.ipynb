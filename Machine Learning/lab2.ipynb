{
 "cells": [
  {
   "cell_type": "markdown",
   "id": "a8144fd6",
   "metadata": {},
   "source": [
    "Врублевская Екатерина, 3 курс 13 группа"
   ]
  },
  {
   "cell_type": "code",
   "execution_count": 67,
   "id": "17d5294f",
   "metadata": {},
   "outputs": [],
   "source": [
    "import pandas as pd\n",
    "from numpy import NaN\n",
    "import numpy as np\n",
    "from sklearn import preprocessing\n",
    "from sklearn.neighbors import KNeighborsClassifier\n",
    "from sklearn.tree import DecisionTreeClassifier, plot_tree\n",
    "from sklearn.metrics import accuracy_score, f1_score\n",
    "from sklearn.model_selection import train_test_split"
   ]
  },
  {
   "cell_type": "code",
   "execution_count": 73,
   "id": "1ab6ffef",
   "metadata": {},
   "outputs": [
    {
     "name": "stdout",
     "output_type": "stream",
     "text": [
      "             PassengerId  Survived    Pclass       Age     SibSp     Parch  \\\n",
      "PassengerId     1.000000 -0.005007 -0.035144  0.036847 -0.057527 -0.001652   \n",
      "Survived       -0.005007  1.000000 -0.338481 -0.077221 -0.035322  0.081629   \n",
      "Pclass         -0.035144 -0.338481  1.000000 -0.369226  0.083081  0.018443   \n",
      "Age             0.036847 -0.077221 -0.369226  1.000000 -0.308247 -0.189119   \n",
      "SibSp          -0.057527 -0.035322  0.083081 -0.308247  1.000000  0.414838   \n",
      "Parch          -0.001652  0.081629  0.018443 -0.189119  0.414838  1.000000   \n",
      "Fare            0.012658  0.257307 -0.549500  0.096067  0.159651  0.216225   \n",
      "\n",
      "                 Fare  \n",
      "PassengerId  0.012658  \n",
      "Survived     0.257307  \n",
      "Pclass      -0.549500  \n",
      "Age          0.096067  \n",
      "SibSp        0.159651  \n",
      "Parch        0.216225  \n",
      "Fare         1.000000  \n",
      "     Survived  Pclass  Sex   Age  Parch\n",
      "418         0       2    1  30.0      0\n",
      "872         0       1    1  33.0      0\n",
      "278         0       3    1   7.0      1\n",
      "194         1       1    0  44.0      0\n",
      "774         1       2    0  54.0      3\n",
      "..        ...     ...  ...   ...    ...\n",
      "873         0       3    1  47.0      0\n",
      "79          1       3    0  30.0      0\n",
      "294         0       3    1  24.0      0\n",
      "37          0       3    1  21.0      0\n",
      "569         1       3    1  32.0      0\n",
      "\n",
      "[179 rows x 5 columns]\n",
      "29.68147663551402\n"
     ]
    }
   ],
   "source": [
    "data = pd.read_csv('./train.csv')\n",
    "print(data.corr())\n",
    "\n",
    "data = data.drop(columns=['PassengerId', 'Name', 'SibSp','Ticket', 'Fare', 'Cabin', 'Embarked'])\n",
    "data['Sex'] = data['Sex'].replace(to_replace='female', value=0).replace(to_replace='male', value=1)\n",
    "\n",
    "_, test_data = train_test_split(data.dropna(), test_size=0.25)\n",
    "train_data = data.drop(index=test_data.index)\n",
    "\n",
    "x_test, y_test = test_data[['Pclass', 'Sex', 'Age', 'Parch']], test_data[['Survived']]\n",
    "print(test_data)\n",
    "\n",
    "cleared_data = train_data.dropna()\n",
    "added_data = train_data\n",
    "\n",
    "avg_year = added_data['Age'].sum() / added_data['Age'].count() \n",
    "print(avg_year)\n",
    "added_data['Age'] = added_data['Age'].replace(to_replace=NaN, value=avg_year)"
   ]
  },
  {
   "cell_type": "markdown",
   "id": "6ea06de9",
   "metadata": {},
   "source": [
    "added_data - датасет где все NaN в столбце возраст заменены на среднее арифметическое всех значений столбца, \n",
    "\n",
    "cleared_data - очищенный от таких строк датасет (где есть NaN),\n",
    "\n",
    "Обучаю алгоритмы на очищенном датасете:"
   ]
  },
  {
   "cell_type": "code",
   "execution_count": 74,
   "id": "feff2393",
   "metadata": {},
   "outputs": [
    {
     "name": "stdout",
     "output_type": "stream",
     "text": [
      "Tree:\n",
      "0.7932960893854749\n",
      "kNN:\n",
      "0.7486033519553073\n"
     ]
    }
   ],
   "source": [
    "x_cleared, y_cleared = cleared_data[['Pclass', 'Sex', 'Age', 'Parch']], cleared_data[['Survived']]\n",
    "d_tree = DecisionTreeClassifier(\n",
    "    criterion='gini',\n",
    "    max_depth=4,\n",
    "    min_samples_leaf=12\n",
    ")\n",
    "d_tree.fit(x_cleared, y_cleared)\n",
    "y_predicted = d_tree.predict(x_test)\n",
    "print(\"Tree:\")\n",
    "print(accuracy_score(y_test, y_predicted))\n",
    " \n",
    "neigh = KNeighborsClassifier(n_neighbors=3, metric=\"minkowski\")\n",
    "neigh.fit(x_cleared, y_cleared['Survived'])\n",
    "y_predicted = neigh.predict(x_test)\n",
    "print(\"kNN:\")\n",
    "print(accuracy_score(y_test, y_predicted))"
   ]
  },
  {
   "cell_type": "markdown",
   "id": "18bd595b",
   "metadata": {},
   "source": [
    "Нормализую признаки Age и Pclass c помощью MinMaxScaler и снова обучаю алгоритмы"
   ]
  },
  {
   "cell_type": "code",
   "execution_count": 75,
   "id": "35dcaf35",
   "metadata": {},
   "outputs": [
    {
     "name": "stdout",
     "output_type": "stream",
     "text": [
      "Tree:\n",
      "0.7932960893854749\n",
      "kNN:\n",
      "0.7988826815642458\n"
     ]
    }
   ],
   "source": [
    "norm_cleared_data = cleared_data.copy()\n",
    "\n",
    "scaler = preprocessing.MinMaxScaler() \n",
    "arr_scaled = scaler.fit_transform(norm_cleared_data)\n",
    "norm_cleared_data = pd.DataFrame(arr_scaled, columns=norm_cleared_data.columns,index=norm_cleared_data.index)\n",
    "\n",
    "x_train, y_train = norm_cleared_data[['Pclass', 'Sex', 'Age', 'Parch']], norm_cleared_data[['Survived']]\n",
    "\n",
    "d_tree = DecisionTreeClassifier(\n",
    "    criterion='gini',\n",
    "    max_depth=4,\n",
    "    min_samples_leaf=12\n",
    ")\n",
    "d_tree.fit(x_train, y_train)\n",
    " \n",
    "arr_scaled = scaler.fit_transform(x_test)\n",
    "x_test_norm = pd.DataFrame(arr_scaled, columns=x_test.columns,index=x_test.index)\n",
    "\n",
    "    \n",
    "y_predicted = d_tree.predict(x_test_norm)\n",
    "print(\"Tree:\")\n",
    "print(accuracy_score(y_test, y_predicted))\n",
    "\n",
    "neigh = KNeighborsClassifier(n_neighbors=3, metric=\"minkowski\")\n",
    "neigh.fit(x_train, y_train['Survived'])\n",
    "\n",
    "y_predicted = neigh.predict(x_test_norm)\n",
    "print(\"kNN:\")\n",
    "print(accuracy_score(y_test, y_predicted))"
   ]
  },
  {
   "cell_type": "markdown",
   "id": "8f0171f2",
   "metadata": {},
   "source": [
    "далее запускаю на дополненном датасете"
   ]
  },
  {
   "cell_type": "code",
   "execution_count": 76,
   "id": "06b3029d",
   "metadata": {},
   "outputs": [
    {
     "name": "stdout",
     "output_type": "stream",
     "text": [
      "     Survived  Pclass  Sex        Age  Parch\n",
      "1           1       1    0  38.000000      0\n",
      "2           1       3    0  26.000000      0\n",
      "3           1       1    0  35.000000      0\n",
      "4           0       3    1  35.000000      0\n",
      "5           0       3    1  29.681477      0\n",
      "..        ...     ...  ...        ...    ...\n",
      "884         0       3    1  25.000000      0\n",
      "885         0       3    0  39.000000      5\n",
      "887         1       1    0  19.000000      0\n",
      "888         0       3    0  29.681477      2\n",
      "889         1       1    1  26.000000      0\n",
      "\n",
      "[712 rows x 5 columns]\n",
      "Tree:\n",
      "0.8100558659217877\n",
      "kNN:\n",
      "0.770949720670391\n"
     ]
    }
   ],
   "source": [
    "x_train, y_train = added_data[['Pclass', 'Sex', 'Age', 'Parch']], added_data[['Survived']]\n",
    "print(added_data)\n",
    "d_tree = DecisionTreeClassifier(\n",
    "    criterion='gini',\n",
    "    max_depth=4,\n",
    "    min_samples_leaf=12\n",
    ")\n",
    "d_tree.fit(x_train, y_train)\n",
    "\n",
    "y_predicted = d_tree.predict(x_test)\n",
    "print(\"Tree:\")\n",
    "print(accuracy_score(y_test, y_predicted))\n",
    " \n",
    "neigh = KNeighborsClassifier(n_neighbors=3, metric=\"minkowski\")\n",
    "neigh.fit(x_train, y_train['Survived'])\n",
    "y_knn = neigh.predict(x_test)\n",
    "print(\"kNN:\")\n",
    "print(accuracy_score(y_test, y_knn))"
   ]
  },
  {
   "cell_type": "markdown",
   "id": "b0be0580",
   "metadata": {},
   "source": [
    "и на дополненном нормализованном датасете:"
   ]
  },
  {
   "cell_type": "code",
   "execution_count": 77,
   "id": "b9556303",
   "metadata": {
    "scrolled": true
   },
   "outputs": [
    {
     "name": "stdout",
     "output_type": "stream",
     "text": [
      "Tree:\n",
      "0.8212290502793296\n",
      "kNN:\n",
      "0.7988826815642458\n"
     ]
    }
   ],
   "source": [
    "norm_added_data = added_data.copy()\n",
    "\n",
    "scaler = preprocessing.MinMaxScaler() \n",
    "arr_scaled = scaler.fit_transform(norm_added_data)\n",
    "norm_added_data = pd.DataFrame(arr_scaled, columns=norm_added_data.columns,index=norm_added_data.index)\n",
    "\n",
    "x_train, y_train = norm_added_data[['Pclass', 'Sex', 'Age', 'Parch']], norm_added_data[['Survived']]\n",
    "\n",
    "d_tree = DecisionTreeClassifier(\n",
    "    criterion='gini',\n",
    "    max_depth=4,\n",
    "    min_samples_leaf=12\n",
    ")\n",
    "d_tree.fit(x_train, y_train)\n",
    "\n",
    "arr_scaled = scaler.fit_transform(x_test)\n",
    "x_test_norm = pd.DataFrame(arr_scaled, columns=x_test.columns,index=x_test.index)\n",
    "\n",
    "\n",
    "y_predicted = d_tree.predict(x_test_norm)\n",
    "print(\"Tree:\")\n",
    "print(accuracy_score(y_test, y_predicted))\n",
    " \n",
    "neigh = KNeighborsClassifier(n_neighbors=3, metric=\"minkowski\")\n",
    "neigh.fit(x_train, y_train['Survived'])\n",
    "y_predicted = neigh.predict(x_test_norm)\n",
    "print(\"kNN:\")\n",
    "print(accuracy_score(y_test, y_predicted))"
   ]
  },
  {
   "cell_type": "markdown",
   "id": "e4d8b078",
   "metadata": {},
   "source": [
    "Вывод: на метрики дерева решений нормализация данных влияния практически не оказывает (хотя по логике не должна вообще оказывать)\n",
    "Очищенный: 0.7932960893854749\n",
    "Очищенный нормализованный: 0.7932960893854749\n",
    "Заполненный: 0.8100558659217877\n",
    "Заполненный нормализованный: 0.8212290502793296\n",
    "А вот заполнение пропусков помогает немного улучшить метрику.\n",
    "В случае с kNN и нормализация и заполнение пропусков помогают немного улучшить метрики:\n",
    "Очищенный: 0.7486033519553073\n",
    "Очищенный нормализованный: 0.7988826815642458\n",
    "Заполненный: 0.770949720670391\n",
    "Заполненный нормализованный: 0.7988826815642458"
   ]
  },
  {
   "cell_type": "code",
   "execution_count": null,
   "id": "1eed1d43",
   "metadata": {},
   "outputs": [],
   "source": []
  }
 ],
 "metadata": {
  "kernelspec": {
   "display_name": "Python 3",
   "language": "python",
   "name": "python3"
  },
  "language_info": {
   "codemirror_mode": {
    "name": "ipython",
    "version": 3
   },
   "file_extension": ".py",
   "mimetype": "text/x-python",
   "name": "python",
   "nbconvert_exporter": "python",
   "pygments_lexer": "ipython3",
   "version": "3.8.8"
  }
 },
 "nbformat": 4,
 "nbformat_minor": 5
}
