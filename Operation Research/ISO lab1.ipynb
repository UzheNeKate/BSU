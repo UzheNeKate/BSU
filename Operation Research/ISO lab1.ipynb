{
 "cells": [
  {
   "cell_type": "code",
   "execution_count": 9,
   "id": "d834d579",
   "metadata": {},
   "outputs": [
    {
     "name": "stdout",
     "output_type": "stream",
     "text": [
      "     con: array([], dtype=float64)\n",
      "     fun: -1506332.724783204\n",
      " message: 'Optimization terminated successfully.'\n",
      "     nit: 9\n",
      "   slack: array([   0.        ,    0.        , 6584.66453674,    0.        ,\n",
      "          0.        ])\n",
      "  status: 0\n",
      " success: True\n",
      "       x: array([     0.        , 462060.7028754 , 250000.        , 238095.23809524,\n",
      "        79872.20447284])\n"
     ]
    }
   ],
   "source": [
    "from scipy.optimize import linprog\n",
    "import numpy as np\n",
    "z = [-1.30, -2.00, -1.50, -0.30, -1.70]\n",
    "\n",
    "A = np.array([\n",
    "        [4, 8, 0, 0, 3.8],\n",
    "        [2.5, 0, 10, 0, 0],\n",
    "        [3.2, 2, 3, 0, 4.6],\n",
    "        [2.1, 2.6, 2.3, 0, 2.8], \n",
    "        [6.5, 0, 0, 21, 0]\n",
    "    ] \n",
    ") / 100\n",
    "b = [40000, 25000, 27000, 20000, 50000]\n",
    "res = linprog(z, A, b, method='simplex', )\n",
    "print(res)"
   ]
  },
  {
   "cell_type": "code",
   "execution_count": 1,
   "id": "c82a3a5d",
   "metadata": {},
   "outputs": [
    {
     "name": "stdout",
     "output_type": "stream",
     "text": [
      "status: 1, Optimal\n",
      "objective: 1506331.4000000001\n",
      "x1: 2.0\n",
      "x2: 462059.0\n",
      "x3: 249999.0\n",
      "x4: 238094.0\n",
      "x5: 79873.0\n",
      "meat_1: -0.025999999997111445\n",
      "meat_2: -0.049999999999272404\n",
      "fish_2: -6584.628000000002\n",
      "milk_2: -0.002999999997427949\n",
      "other_2: -0.1300000000046566\n"
     ]
    }
   ],
   "source": [
    "from pulp import LpProblem, LpMaximize, LpVariable, LpStatus, LpMinimize\n",
    "\n",
    "# Определяем модель\n",
    "model = LpProblem(name=\"resource\", sense=LpMaximize)\n",
    "\n",
    "# Описываем переменные\n",
    "x = {i: LpVariable(name=f\"x{i}\", lowBound=0, cat=\"Integer\") for i in range(1, 6)}\n",
    "\n",
    "# Добавляем ограничения\n",
    "model += ((4 * x[1] + 8 * x[2] + 3.8 * x[5])/100 <= 40000, \"meat-1\")\n",
    "model += ((2.5 * x[1] + 10*x[3])/100 <= 25000, \"meat-2\")\n",
    "model += ((3.2*x[1]+2*x[2]+3*x[3]+4.6*x[5])/100 <= 27000, \"fish-2\")\n",
    "model += ((2.1*x[1]+2.6*x[2]+2.3*x[3]+2.8*x[5])/100 <= 20000, \"milk-2\")\n",
    "model += ((6.5*x[1]+21*x[4])/100 <= 50000, \"other-2\")\n",
    "\n",
    "# Описываем цель\n",
    "model += 1.3 * x[1] + 2 * x[2] + 1.5 * x[3] + 0.3 * x[4] + 1.7*x[5]\n",
    "\n",
    "# Решаем задачу оптимизации\n",
    "status = model.solve()\n",
    "\n",
    "# Выводим результаты решения\n",
    "print(f\"status: {model.status}, {LpStatus[model.status]}\")\n",
    "print(f\"objective: {model.objective.value()}\")\n",
    "\n",
    "for var in x.values():\n",
    "    print(f\"{var.name}: {var.value()}\")\n",
    "\n",
    "for name, constraint in model.constraints.items():\n",
    "    print(f\"{name}: {constraint.value()}\")\n"
   ]
  },
  {
   "cell_type": "code",
   "execution_count": null,
   "id": "ec06ca7d",
   "metadata": {},
   "outputs": [],
   "source": []
  }
 ],
 "metadata": {
  "kernelspec": {
   "display_name": "Python 3",
   "language": "python",
   "name": "python3"
  },
  "language_info": {
   "codemirror_mode": {
    "name": "ipython",
    "version": 3
   },
   "file_extension": ".py",
   "mimetype": "text/x-python",
   "name": "python",
   "nbconvert_exporter": "python",
   "pygments_lexer": "ipython3",
   "version": "3.8.8"
  }
 },
 "nbformat": 4,
 "nbformat_minor": 5
}
